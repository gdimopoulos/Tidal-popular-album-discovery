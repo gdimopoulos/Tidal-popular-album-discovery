{
 "cells": [
  {
   "cell_type": "code",
   "execution_count": 3,
   "metadata": {},
   "outputs": [],
   "source": [
    "import tidalapi\n",
    "import collections\n",
    "import MySQLdb\n",
    "import datetime"
   ]
  },
  {
   "cell_type": "code",
   "execution_count": 4,
   "metadata": {},
   "outputs": [],
   "source": [
    "datetime = datetime.datetime.now()"
   ]
  },
  {
   "cell_type": "code",
   "execution_count": 5,
   "metadata": {},
   "outputs": [],
   "source": [
    "with open('/home/giorgos/tmp/tidal.txt') as cred:\n",
    "    credentials = cred.read().splitlines()"
   ]
  },
  {
   "cell_type": "code",
   "execution_count": 6,
   "metadata": {},
   "outputs": [],
   "source": [
    "USER = credentials[0]\n",
    "PASS = credentials[1]"
   ]
  },
  {
   "cell_type": "code",
   "execution_count": 7,
   "metadata": {},
   "outputs": [
    {
     "data": {
      "text/plain": [
       "True"
      ]
     },
     "execution_count": 7,
     "metadata": {},
     "output_type": "execute_result"
    }
   ],
   "source": [
    "session = tidalapi.Session()\n",
    "session.login(USER, PASS)"
   ]
  },
  {
   "cell_type": "code",
   "execution_count": 8,
   "metadata": {},
   "outputs": [],
   "source": [
    "db = MySQLdb.connect(host='localhost', user='gd', passwd='password', db='tidal')"
   ]
  },
  {
   "cell_type": "code",
   "execution_count": 9,
   "metadata": {},
   "outputs": [],
   "source": [
    "cur = db.cursor()"
   ]
  },
  {
   "cell_type": "code",
   "execution_count": null,
   "metadata": {},
   "outputs": [],
   "source": [
    "# Necessary configuration to avoid unicode errors from unsupported characters\n",
    "db.set_character_set('utf8')\n",
    "cur.execute('SET NAMES utf8;')\n",
    "cur.execute('SET CHARACTER SET utf8;')\n",
    "cur.execute('SET character_set_connection=utf8;')"
   ]
  },
  {
   "cell_type": "code",
   "execution_count": null,
   "metadata": {},
   "outputs": [],
   "source": [
    "crtbl = \"\"\"CREATE TABLE IF NOT EXISTS downloaded_albums\n",
    "            (id INT AUTO_INCREMENT PRIMARY KEY,\n",
    "             album_id INT,\n",
    "             album_name VARCHAR(100),\n",
    "             album_artist VARCHAR(100),\n",
    "             dl_date DATE)\"\"\""
   ]
  },
  {
   "cell_type": "code",
   "execution_count": null,
   "metadata": {},
   "outputs": [],
   "source": [
    "cur.execute(crtbl)"
   ]
  },
  {
   "cell_type": "code",
   "execution_count": null,
   "metadata": {},
   "outputs": [],
   "source": [
    "# 1. Select a seed artist ID\n",
    "#artist = session.get_artist(3116) pearl jam\n",
    "#artist = session.get_artist(9366) # rem\n",
    "artist = session.get_artist(64518) # radiohead"
   ]
  },
  {
   "cell_type": "code",
   "execution_count": null,
   "metadata": {},
   "outputs": [],
   "source": [
    "# 2. Find all similar artists\n",
    "def similar_artists(artist_id):\n",
    "    sa = session.get_artist_similar(artist_id)\n",
    "    return [artist.id for artist in sa]"
   ]
  },
  {
   "cell_type": "code",
   "execution_count": null,
   "metadata": {},
   "outputs": [],
   "source": [
    "# 3. Get the top tracks for each artist\n",
    "def top_tracks(artist_id):\n",
    "     return session.get_artist_top_tracks(artist_id)"
   ]
  },
  {
   "cell_type": "code",
   "execution_count": null,
   "metadata": {
    "scrolled": false
   },
   "outputs": [],
   "source": [
    "# 4. Get the top x albums based on the top tracks\n",
    "skipwords = ['live','greatest hits', 'best of', 'hits']\n",
    "\n",
    "def top_albums(artist_id, n):\n",
    "    top_t = top_tracks(artist_id)\n",
    "    top_a = collections.Counter([track.album.id for track in top_t \n",
    "                                 if not any(x in track.album.name.lower() for x in skipwords)\n",
    "                                 and track.album.id not in dlded])\n",
    "    if len(top_a)>0:\n",
    "        return zip(*top_a.most_common(n))[0]\n",
    "    else:\n",
    "        return []"
   ]
  },
  {
   "cell_type": "code",
   "execution_count": 1,
   "metadata": {},
   "outputs": [],
   "source": [
    "def tidal_url(id):\n",
    "    return 'https://listen.tidal.com/album/{}'.format(id)"
   ]
  },
  {
   "cell_type": "code",
   "execution_count": null,
   "metadata": {},
   "outputs": [],
   "source": [
    "cur.execute(\"SELECT album_id FROM downloaded_albums\")"
   ]
  },
  {
   "cell_type": "code",
   "execution_count": null,
   "metadata": {},
   "outputs": [],
   "source": [
    "# -surely there must be a better way to do this\n",
    "try:\n",
    "    dlded = zip(*cur.fetchall())[0]\n",
    "except IndexError:\n",
    "    dlded = set()"
   ]
  },
  {
   "cell_type": "code",
   "execution_count": null,
   "metadata": {
    "scrolled": false
   },
   "outputs": [],
   "source": [
    "#[top_albums(id, 3) for id in similar_artists(artist.id)]\n",
    "album_ids = set()\n",
    "for aid in similar_artists(artist.id):\n",
    "    # put everything in a tuple to skip duplicates\n",
    "    [album_ids.add(id) for id in top_albums(aid, 5)]"
   ]
  },
  {
   "cell_type": "code",
   "execution_count": null,
   "metadata": {
    "scrolled": false
   },
   "outputs": [],
   "source": [
    "for aid in album_ids:\n",
    "    if aid not in dlded:\n",
    "        album = session.get_album(aid)\n",
    "        cur.execute(\"INSERT INTO downloaded_albums\\\n",
    "                (album_id, album_name, album_artist, dl_date) VALUES (%s,%s,%s,%s)\",\n",
    "                (album.id, album.name, album.artist.name, datetime))\n",
    "        print tidal_url(aid)\n",
    "db.commit()"
   ]
  }
 ],
 "metadata": {
  "kernelspec": {
   "display_name": "Python 2",
   "language": "python",
   "name": "python2"
  },
  "language_info": {
   "codemirror_mode": {
    "name": "ipython",
    "version": 2
   },
   "file_extension": ".py",
   "mimetype": "text/x-python",
   "name": "python",
   "nbconvert_exporter": "python",
   "pygments_lexer": "ipython2",
   "version": "2.7.15"
  }
 },
 "nbformat": 4,
 "nbformat_minor": 2
}
